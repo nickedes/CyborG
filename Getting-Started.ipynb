{
 "cells": [
  {
   "cell_type": "code",
   "execution_count": 76,
   "metadata": {
    "collapsed": false
   },
   "outputs": [],
   "source": [
    "import pandas as p\n",
    "from math import ceil\n",
    "df = p.read_csv('Data/train_v2.csv')"
   ]
  },
  {
   "cell_type": "code",
   "execution_count": 77,
   "metadata": {
    "collapsed": false
   },
   "outputs": [
    {
     "data": {
      "text/plain": [
       "{1, 2, 3, 4, 5}"
      ]
     },
     "execution_count": 77,
     "metadata": {},
     "output_type": "execute_result"
    }
   ],
   "source": [
    "# Training\n",
    "ratings = set(df.rating)\n",
    "ratings"
   ]
  },
  {
   "cell_type": "code",
   "execution_count": 78,
   "metadata": {
    "collapsed": false
   },
   "outputs": [],
   "source": [
    "movies = set(df.movie)\n"
   ]
  },
  {
   "cell_type": "code",
   "execution_count": 79,
   "metadata": {
    "collapsed": false
   },
   "outputs": [
    {
     "name": "stdout",
     "output_type": "stream",
     "text": [
      "ID\n",
      "user\n",
      "movie\n",
      "rating\n"
     ]
    },
    {
     "data": {
      "text/plain": [
       "{}"
      ]
     },
     "execution_count": 79,
     "metadata": {},
     "output_type": "execute_result"
    }
   ],
   "source": [
    "mov_ratings = {}\n",
    "for x in df:\n",
    "    print(x)\n",
    "#     if x.movie not in mov_ratings:\n",
    "#         mov_ratings[x.movie] = [x.rating]\n",
    "#     else:\n",
    "#         mov_ratings[x.movie].append(x.rating)\n",
    "mov_ratings"
   ]
  },
  {
   "cell_type": "code",
   "execution_count": 80,
   "metadata": {
    "collapsed": false
   },
   "outputs": [],
   "source": [
    "for index, row in df.iterrows():\n",
    "    if row['movie'] not in mov_ratings:\n",
    "        mov_ratings[row['movie']] = []\n",
    "    mov_ratings[row['movie']] += [row['rating']]"
   ]
  },
  {
   "cell_type": "code",
   "execution_count": 81,
   "metadata": {
    "collapsed": false
   },
   "outputs": [],
   "source": [
    "for x in mov_ratings:\n",
    "    rating = sum(mov_ratings[x])/len(mov_ratings[x])\n",
    "    mov_ratings[x] = ceil(rating)"
   ]
  },
  {
   "cell_type": "code",
   "execution_count": 83,
   "metadata": {
    "collapsed": false
   },
   "outputs": [],
   "source": [
    "# Testing\n",
    "df = p.read_csv('Data/test_v2.csv')\n",
    "values = {}\n",
    "for index, row in df.iterrows():\n",
    "    if row['movie'] in mov_ratings:\n",
    "        values[row['ID']] = mov_ratings[row['movie']]\n",
    "    else:\n",
    "        values[row['ID']] = 0"
   ]
  },
  {
   "cell_type": "code",
   "execution_count": 90,
   "metadata": {
    "collapsed": false
   },
   "outputs": [],
   "source": [
    "with open('Data/res.csv', 'w') as f:\n",
    "    for x in values:\n",
    "        line = str(x) + ',' + str(values[x])+'\\n'\n",
    "        f.write(line)\n"
   ]
  },
  {
   "cell_type": "code",
   "execution_count": null,
   "metadata": {
    "collapsed": true
   },
   "outputs": [],
   "source": []
  }
 ],
 "metadata": {
  "kernelspec": {
   "display_name": "Python 3",
   "language": "python",
   "name": "python3"
  },
  "language_info": {
   "codemirror_mode": {
    "name": "ipython",
    "version": 3
   },
   "file_extension": ".py",
   "mimetype": "text/x-python",
   "name": "python",
   "nbconvert_exporter": "python",
   "pygments_lexer": "ipython3",
   "version": "3.4.3"
  }
 },
 "nbformat": 4,
 "nbformat_minor": 0
}
