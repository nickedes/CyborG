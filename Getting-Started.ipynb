{
 "cells": [
  {
   "cell_type": "code",
   "execution_count": 65,
   "metadata": {
    "collapsed": false
   },
   "outputs": [],
   "source": [
    "import pandas as p\n",
    "from math import ceil"
   ]
  },
  {
   "cell_type": "code",
   "execution_count": 66,
   "metadata": {
    "collapsed": false
   },
   "outputs": [
    {
     "data": {
      "text/plain": [
       "{1, 2, 3, 4, 5}"
      ]
     },
     "execution_count": 66,
     "metadata": {},
     "output_type": "execute_result"
    }
   ],
   "source": [
    "df = p.read_csv('Data/train_v2.csv')\n",
    "ratings = set(df.rating)\n",
    "ratings\n"
   ]
  },
  {
   "cell_type": "code",
   "execution_count": 67,
   "metadata": {
    "collapsed": false
   },
   "outputs": [
    {
     "data": {
      "text/html": [
       "<div>\n",
       "<table border=\"1\" class=\"dataframe\">\n",
       "  <thead>\n",
       "    <tr style=\"text-align: right;\">\n",
       "      <th></th>\n",
       "      <th>ID</th>\n",
       "      <th>user</th>\n",
       "      <th>movie</th>\n",
       "      <th>rating</th>\n",
       "    </tr>\n",
       "  </thead>\n",
       "  <tbody>\n",
       "    <tr>\n",
       "      <th>0</th>\n",
       "      <td>610739</td>\n",
       "      <td>3704</td>\n",
       "      <td>3784</td>\n",
       "      <td>3</td>\n",
       "    </tr>\n",
       "    <tr>\n",
       "      <th>1</th>\n",
       "      <td>324753</td>\n",
       "      <td>1924</td>\n",
       "      <td>802</td>\n",
       "      <td>3</td>\n",
       "    </tr>\n",
       "    <tr>\n",
       "      <th>2</th>\n",
       "      <td>808218</td>\n",
       "      <td>4837</td>\n",
       "      <td>1387</td>\n",
       "      <td>4</td>\n",
       "    </tr>\n",
       "    <tr>\n",
       "      <th>3</th>\n",
       "      <td>133808</td>\n",
       "      <td>867</td>\n",
       "      <td>1196</td>\n",
       "      <td>4</td>\n",
       "    </tr>\n",
       "    <tr>\n",
       "      <th>4</th>\n",
       "      <td>431858</td>\n",
       "      <td>2631</td>\n",
       "      <td>3072</td>\n",
       "      <td>5</td>\n",
       "    </tr>\n",
       "  </tbody>\n",
       "</table>\n",
       "</div>"
      ],
      "text/plain": [
       "       ID  user  movie  rating\n",
       "0  610739  3704   3784       3\n",
       "1  324753  1924    802       3\n",
       "2  808218  4837   1387       4\n",
       "3  133808   867   1196       4\n",
       "4  431858  2631   3072       5"
      ]
     },
     "execution_count": 67,
     "metadata": {},
     "output_type": "execute_result"
    }
   ],
   "source": [
    "# Preview a part of dataframe\n",
    "df[:5]"
   ]
  },
  {
   "cell_type": "code",
   "execution_count": 68,
   "metadata": {
    "collapsed": false
   },
   "outputs": [
    {
     "name": "stdout",
     "output_type": "stream",
     "text": [
      "ID\n",
      "user\n",
      "movie\n",
      "rating\n"
     ]
    },
    {
     "data": {
      "text/plain": [
       "{}"
      ]
     },
     "execution_count": 68,
     "metadata": {},
     "output_type": "execute_result"
    }
   ],
   "source": [
    "mov_ratings, user_ratings = {}, {}\n",
    "for x in df:\n",
    "    print(x)\n",
    "#     if x.movie not in mov_ratings:\n",
    "#         mov_ratings[x.movie] = [x.rating]\n",
    "#     else:\n",
    "#         mov_ratings[x.movie].append(x.rating)\n",
    "mov_ratings"
   ]
  },
  {
   "cell_type": "code",
   "execution_count": 69,
   "metadata": {
    "collapsed": false
   },
   "outputs": [],
   "source": [
    "for index, row in df.iterrows():\n",
    "    if row['movie'] not in mov_ratings:\n",
    "        mov_ratings[row['movie']] = []\n",
    "    if row['user'] not in user_ratings:\n",
    "        user_ratings[row['user']] = []\n",
    "    mov_ratings[row['movie']] += [row['rating']]\n",
    "    user_ratings[row['user']] += [row['rating']]"
   ]
  },
  {
   "cell_type": "code",
   "execution_count": 70,
   "metadata": {
    "collapsed": false
   },
   "outputs": [],
   "source": [
    "for x in mov_ratings:\n",
    "    rating = sum(mov_ratings[x])/len(mov_ratings[x])\n",
    "    mov_ratings[x] = rating\n",
    "for x in user_ratings:\n",
    "    rating = sum(user_ratings[x])/len(user_ratings[x])\n",
    "    user_ratings[x] = rating"
   ]
  },
  {
   "cell_type": "code",
   "execution_count": 71,
   "metadata": {
    "collapsed": false
   },
   "outputs": [],
   "source": [
    "# Testing\n",
    "df = p.read_csv('Data/test_v2.csv')\n",
    "values = [['ID', 'rating']]\n",
    "for index, row in df.iterrows():\n",
    "    if row['movie'] in mov_ratings and row['user'] in user_ratings:\n",
    "        values += [[row['ID'], (mov_ratings[row['movie']] + user_ratings[row['user']])/2 ]]\n",
    "    elif row['movie'] in mov_ratings:\n",
    "        values += [[row['ID'], mov_ratings[row['movie']]]]\n",
    "    elif row['user'] in user_ratings:\n",
    "        values += [[row['ID'], user_ratings[row['user']]]]\n",
    "    else:\n",
    "        values += [[row['ID'], 0]]"
   ]
  },
  {
   "cell_type": "code",
   "execution_count": 72,
   "metadata": {
    "collapsed": false
   },
   "outputs": [],
   "source": [
    "df = p.DataFrame(values)\n",
    "with open('Data/res.csv', 'w') as f:\n",
    "    f.write(df.to_csv(index=False, header=False))"
   ]
  },
  {
   "cell_type": "code",
   "execution_count": null,
   "metadata": {
    "collapsed": true
   },
   "outputs": [],
   "source": []
  }
 ],
 "metadata": {
  "kernelspec": {
   "display_name": "Python 3",
   "language": "python",
   "name": "python3"
  },
  "language_info": {
   "codemirror_mode": {
    "name": "ipython",
    "version": 3
   },
   "file_extension": ".py",
   "mimetype": "text/x-python",
   "name": "python",
   "nbconvert_exporter": "python",
   "pygments_lexer": "ipython3",
   "version": "3.4.3"
  }
 },
 "nbformat": 4,
 "nbformat_minor": 0
}
